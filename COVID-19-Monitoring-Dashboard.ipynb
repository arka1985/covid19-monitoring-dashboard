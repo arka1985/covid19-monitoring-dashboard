{
 "cells": [
  {
   "cell_type": "markdown",
   "metadata": {},
   "source": [
    "# <font color='violet'> On-line Dashboard For Monitoring of the Health Status of the Students for Prevention of Spread of COVID-19</font>"
   ]
  },
  {
   "cell_type": "markdown",
   "metadata": {},
   "source": [
    "#### <font color='turquoise'> Designed and Developed By: Dr. Arkaprabha Sau, MBBS, MD (Gold Medalist), Dip. Public Health, Dip. Geriatric Medicine, Ph.D. (Research Fellow-Health Informatics)</font>"
   ]
  },
  {
   "cell_type": "markdown",
   "metadata": {},
   "source": [
    "## <font color='blue'> Institute Name: ABC</font>"
   ]
  },
  {
   "cell_type": "markdown",
   "metadata": {},
   "source": [
    "## <font color='blue'> Department: XYZ</font>"
   ]
  },
  {
   "cell_type": "markdown",
   "metadata": {},
   "source": [
    "## <font color='red'> Today's Date and Time</font>"
   ]
  },
  {
   "cell_type": "code",
   "execution_count": 72,
   "metadata": {},
   "outputs": [
    {
     "name": "stdout",
     "output_type": "stream",
     "text": [
      "Today date and Time is =  2021-01-02 22:20:10.842522\n"
     ]
    }
   ],
   "source": [
    "# Python program to get \n",
    "# current date \n",
    "# Import date class from datetime module \n",
    "from datetime import date \n",
    "from datetime import datetime\n",
    "from datetime import date \n",
    "from datetime import timedelta\n",
    "today = date.today()\n",
    "today_str = today.strftime(\"%Y-%m-%d\")\n",
    "yesterday = today - timedelta(days = 1)\n",
    "yesterday_str = yesterday.strftime(\"%Y-%m-%d\")\n",
    "daybeforeyesterday = today - timedelta(days = 2)\n",
    "daybeforeyesterday_str = daybeforeyesterday.strftime(\"%Y-%m-%d\")\n",
    "# Returns the current local date \n",
    "#today = date.today() \n",
    "#print(\"Today date is: \", today)\n",
    "# returns current date and time \n",
    "now = datetime.now() \n",
    "print(\"Today date and Time is = \", now) "
   ]
  },
  {
   "cell_type": "code",
   "execution_count": 73,
   "metadata": {},
   "outputs": [],
   "source": [
    "# Import Relevent libraries\n",
    "import pandas as pd\n",
    "import numpy as np\n",
    "import matplotlib.pyplot as plt\n",
    "import seaborn as sns\n",
    "import gspread\n",
    "from oauth2client.service_account import ServiceAccountCredentials\n",
    "from pandas.io.json import json_normalize\n",
    "%matplotlib inline\n",
    "\n",
    "# Import data from the google sheets\n",
    "# Client ID: 652877159590-feqk1nllu6u301opj5stk46ogi9p0s0a.apps.googleusercontent.com\n",
    "# Client Secret: eX7KsJYm25Nzr5PVBsmA0fRJ\n",
    "\n",
    "## Connect to our service account\n",
    "scope = ['https://spreadsheets.google.com/feeds']\n",
    "credentials = ServiceAccountCredentials.from_json_keyfile_name('/Users/arka.doctor/Python_Code/covid-19-monitoring-298816-dd7230ad1ca6.json', scope)\n",
    "gc = gspread.authorize(credentials)\n",
    "spreadsheet_key = '1Os5r6JKH848-8wiw2q6f1X4QIzpmQYhP_otAymsKPJM'\n",
    "book = gc.open_by_key(spreadsheet_key)\n",
    "worksheet = book.worksheet(\"covid19\")\n",
    "table = worksheet.get_all_values()\n",
    "df = pd.DataFrame(table[1:], columns=table[0])\n",
    "#Renaming column for better representation\n",
    "df.columns = ['datetime','score','name','roll','date',\n",
    "             'temperature','symptopms','comorbidity','containment_zone','international_travel',\n",
    "             'recent_contact','Aarogyasetu_status','obey_rules','voluntary','age','gender']\n",
    "# drop the score and date column\n",
    "df=df.drop(['score','date'],axis=1)\n",
    "df['datetime'] = pd.to_datetime(df.datetime, format='%m/%d/%Y %H:%M:%S')\n",
    "df['datetime']=df['datetime'].dt.strftime(\"%Y-%m-%d\")"
   ]
  },
  {
   "cell_type": "markdown",
   "metadata": {},
   "source": [
    "## <font color='red'> Total Number of Student: 50 </font>\n",
    "## Number of submission and non-submission today till Now"
   ]
  },
  {
   "cell_type": "code",
   "execution_count": 74,
   "metadata": {},
   "outputs": [
    {
     "name": "stdout",
     "output_type": "stream",
     "text": [
      "Total Number of students submitted online form today =  50\n",
      "Total Number of students yet to submit online form today =  0\n"
     ]
    }
   ],
   "source": [
    "today_submission=df.loc[df['datetime']==today_str,'roll'].nunique()\n",
    "print(\"Total Number of students submitted online form today = \", today_submission) \n",
    "yet_to_submit = 50 - today_submission\n",
    "print(\"Total Number of students yet to submit online form today = \", yet_to_submit) "
   ]
  },
  {
   "cell_type": "markdown",
   "metadata": {},
   "source": [
    "## Find the roll number of the students yet to submit online from today"
   ]
  },
  {
   "cell_type": "code",
   "execution_count": 56,
   "metadata": {},
   "outputs": [
    {
     "name": "stdout",
     "output_type": "stream",
     "text": [
      "Roll number of the students yet to submit online form today =  []\n"
     ]
    }
   ],
   "source": [
    "df1 = df.loc[df['datetime']==today_str]\n",
    "submission=df1.loc[df1['datetime'] == today_str, 'roll'].values.flatten().tolist()\n",
    "submission_list = [int(i) for i in submission]\n",
    "# No Response on specific date\n",
    "def find_missing(lst): \n",
    "    return [x for x in range(1,51)  \n",
    "                               if x not in lst] \n",
    "missing = find_missing(submission_list)\n",
    "print(\"Roll number of the students yet to submit online form today = \", missing) "
   ]
  },
  {
   "cell_type": "markdown",
   "metadata": {},
   "source": [
    "## Number of Students suffering from different COVID Related Symptoms\n",
    "| Temperature | Symptoms | Co-morbidity |\n",
    "| --- | --- | --- |\n",
    "| Fever when temperature >=100 | Cough | Diabetes |\n",
    "| Warning when temperature >= 98.9 and < 100 | Fever | Hypertension\n",
    "| Normal when temperature < 98.8 | Difficulty in Breathing | Lung Disease\n",
    "| | Loss of sense of smell and taste | Heart Disease\n",
    "| | None of the Above | Kidney Disease\n",
    "| | | None of the Above"
   ]
  },
  {
   "cell_type": "code",
   "execution_count": 61,
   "metadata": {},
   "outputs": [],
   "source": [
    "df1['temperature'] = df1['temperature'].astype(str).str.extract('([-+]?\\d*\\.\\d+|\\d+)').astype(float)\n",
    "filter_method = lambda x: 'Fever' if x >= 100 else 'Warning' if (x < 100 and x >= 98.9) else 'Normal'\n",
    "df1['temperature'] = df1['temperature'].apply(filter_method)"
   ]
  },
  {
   "cell_type": "code",
   "execution_count": 71,
   "metadata": {},
   "outputs": [
    {
     "data": {
      "text/plain": [
       "Normal     50\n",
       "Warning     1\n",
       "Name: temperature, dtype: int64"
      ]
     },
     "execution_count": 71,
     "metadata": {},
     "output_type": "execute_result"
    }
   ],
   "source": [
    "df1['temperature'].value_counts()"
   ]
  },
  {
   "cell_type": "code",
   "execution_count": 65,
   "metadata": {},
   "outputs": [
    {
     "data": {
      "text/plain": [
       "<matplotlib.axes._subplots.AxesSubplot at 0x12463bf98>"
      ]
     },
     "execution_count": 65,
     "metadata": {},
     "output_type": "execute_result"
    },
    {
     "data": {
      "image/png": "[encoded data removed]",
      "text/plain": [
       "<Figure size 432x288 with 1 Axes>"
      ]
     },
     "metadata": {
      "needs_background": "light"
     },
     "output_type": "display_data"
    }
   ],
   "source": [
    "sns.countplot(x='temperature',data=df1)"
   ]
  }
 ],
 "metadata": {
  "hide_input": false,
  "kernelspec": {
   "display_name": "Python 3",
   "language": "python",
   "name": "python3"
  },
  "language_info": {
   "codemirror_mode": {
    "name": "ipython",
    "version": 3
   },
   "file_extension": ".py",
   "mimetype": "text/x-python",
   "name": "python",
   "nbconvert_exporter": "python",
   "pygments_lexer": "ipython3",
   "version": "3.6.9"
  }
 },
 "nbformat": 4,
 "nbformat_minor": 2
}
