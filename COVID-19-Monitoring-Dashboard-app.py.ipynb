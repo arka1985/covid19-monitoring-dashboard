{
 "cells": [
  {
   "cell_type": "markdown",
   "metadata": {},
   "source": [
    "# <font color='violet'> On-line Dashboard For Monitoring of the Health Status of the Students for Prevention of Spread of COVID-19</font>"
   ]
  },
  {
   "cell_type": "markdown",
   "metadata": {},
   "source": [
    "#### <font color='turquoise'> Designed and Developed By: Dr. Arkaprabha Sau, MBBS, MD (Gold Medalist), Dip. Public Health, Dip. Geriatric Medicine, Ph.D. (Research Fellow-Health Informatics)</font>"
   ]
  },
  {
   "cell_type": "markdown",
   "metadata": {},
   "source": [
    "## <font color='blue'> Institute Name: ABC</font>"
   ]
  },
  {
   "cell_type": "markdown",
   "metadata": {},
   "source": [
    "## <font color='blue'> Department: XYZ</font>"
   ]
  },
  {
   "cell_type": "code",
   "execution_count": 59,
   "metadata": {},
   "outputs": [],
   "source": [
    "# Python program to get \n",
    "# current date \n",
    "# Import date class from datetime module \n",
    "from datetime import date \n",
    "from datetime import datetime\n",
    "from datetime import date \n",
    "from datetime import timedelta\n",
    "today = date.today()\n",
    "today_str = today.strftime(\"%Y-%m-%d\")\n",
    "yesterday = today - timedelta(days = 1)\n",
    "yesterday_str = yesterday.strftime(\"%Y-%m-%d\")\n",
    "daybeforeyesterday = today - timedelta(days = 2)\n",
    "daybeforeyesterday_str = daybeforeyesterday.strftime(\"%Y-%m-%d\")\n",
    "# Returns the current local date \n",
    "#today = date.today() \n",
    "#print(\"Today date is: \", today)\n",
    "# returns current date and time "
   ]
  },
  {
   "cell_type": "code",
   "execution_count": 60,
   "metadata": {},
   "outputs": [],
   "source": [
    "# Import Relevent libraries\n",
    "from __future__ import print_function\n",
    "from ipywidgets import interact, interactive, fixed, interact_manual\n",
    "from IPython.core.display import display, HTML\n",
    "import pandas as pd\n",
    "import numpy as np\n",
    "import matplotlib.pyplot as plt\n",
    "import seaborn as sns\n",
    "%matplotlib inline"
   ]
  },
  {
   "cell_type": "code",
   "execution_count": 61,
   "metadata": {},
   "outputs": [],
   "source": [
    "url = 'https://raw.githubusercontent.com/arka1985/covid19-monitoring-dashboard/main/covid-19-monitoring.csv'\n",
    "df = pd.read_csv(url, index_col=0)"
   ]
  },
  {
   "cell_type": "code",
   "execution_count": 76,
   "metadata": {},
   "outputs": [
    {
     "data": {
      "text/html": [
       "<div>\n",
       "<style scoped>\n",
       "    .dataframe tbody tr th:only-of-type {\n",
       "        vertical-align: middle;\n",
       "    }\n",
       "\n",
       "    .dataframe tbody tr th {\n",
       "        vertical-align: top;\n",
       "    }\n",
       "\n",
       "    .dataframe thead th {\n",
       "        text-align: right;\n",
       "    }\n",
       "</style>\n",
       "<table border=\"1\" class=\"dataframe\">\n",
       "  <thead>\n",
       "    <tr style=\"text-align: right;\">\n",
       "      <th></th>\n",
       "      <th>datetime</th>\n",
       "      <th>name</th>\n",
       "      <th>roll</th>\n",
       "      <th>temperature</th>\n",
       "      <th>symptopms</th>\n",
       "      <th>comorbidity</th>\n",
       "      <th>containment_zone</th>\n",
       "      <th>international_travel</th>\n",
       "      <th>recent_contact</th>\n",
       "      <th>Aarogyasetu_status</th>\n",
       "      <th>obey_rules</th>\n",
       "      <th>voluntary</th>\n",
       "      <th>age</th>\n",
       "      <th>gender</th>\n",
       "    </tr>\n",
       "  </thead>\n",
       "  <tbody>\n",
       "    <tr>\n",
       "      <th>0</th>\n",
       "      <td>2020-12-16</td>\n",
       "      <td>Jagdish Chandra Palariya</td>\n",
       "      <td>14</td>\n",
       "      <td>96.7</td>\n",
       "      <td>None of the Above</td>\n",
       "      <td>None of the Above</td>\n",
       "      <td>No</td>\n",
       "      <td>No</td>\n",
       "      <td>No</td>\n",
       "      <td>Green</td>\n",
       "      <td>Yes</td>\n",
       "      <td>Yes</td>\n",
       "      <td>NaN</td>\n",
       "      <td>NaN</td>\n",
       "    </tr>\n",
       "    <tr>\n",
       "      <th>1</th>\n",
       "      <td>2020-12-16</td>\n",
       "      <td>Satish Saini</td>\n",
       "      <td>31</td>\n",
       "      <td>97 F</td>\n",
       "      <td>None of the Above</td>\n",
       "      <td>None of the Above</td>\n",
       "      <td>No</td>\n",
       "      <td>No</td>\n",
       "      <td>No</td>\n",
       "      <td>You are SAFE</td>\n",
       "      <td>Yes</td>\n",
       "      <td>Yes</td>\n",
       "      <td>NaN</td>\n",
       "      <td>NaN</td>\n",
       "    </tr>\n",
       "    <tr>\n",
       "      <th>2</th>\n",
       "      <td>2020-12-16</td>\n",
       "      <td>PRAMOD KUMAR</td>\n",
       "      <td>21</td>\n",
       "      <td>198.86</td>\n",
       "      <td>None of the Above</td>\n",
       "      <td>None of the Above</td>\n",
       "      <td>No</td>\n",
       "      <td>No</td>\n",
       "      <td>No</td>\n",
       "      <td>YOU ARE SAFE</td>\n",
       "      <td>Yes</td>\n",
       "      <td>Yes</td>\n",
       "      <td>NaN</td>\n",
       "      <td>NaN</td>\n",
       "    </tr>\n",
       "    <tr>\n",
       "      <th>3</th>\n",
       "      <td>2020-12-16</td>\n",
       "      <td>Saurav Bhandari</td>\n",
       "      <td>32</td>\n",
       "      <td>97.5</td>\n",
       "      <td>None of the Above</td>\n",
       "      <td>None of the Above</td>\n",
       "      <td>No</td>\n",
       "      <td>No</td>\n",
       "      <td>No</td>\n",
       "      <td>SAFE</td>\n",
       "      <td>Yes</td>\n",
       "      <td>Yes</td>\n",
       "      <td>NaN</td>\n",
       "      <td>NaN</td>\n",
       "    </tr>\n",
       "    <tr>\n",
       "      <th>4</th>\n",
       "      <td>2020-12-16</td>\n",
       "      <td>Ishan Tamrakar</td>\n",
       "      <td>13</td>\n",
       "      <td>98</td>\n",
       "      <td>None of the Above</td>\n",
       "      <td>None of the Above</td>\n",
       "      <td>No</td>\n",
       "      <td>No</td>\n",
       "      <td>No</td>\n",
       "      <td>I am Safe.</td>\n",
       "      <td>Yes</td>\n",
       "      <td>Yes</td>\n",
       "      <td>NaN</td>\n",
       "      <td>NaN</td>\n",
       "    </tr>\n",
       "    <tr>\n",
       "      <th>...</th>\n",
       "      <td>...</td>\n",
       "      <td>...</td>\n",
       "      <td>...</td>\n",
       "      <td>...</td>\n",
       "      <td>...</td>\n",
       "      <td>...</td>\n",
       "      <td>...</td>\n",
       "      <td>...</td>\n",
       "      <td>...</td>\n",
       "      <td>...</td>\n",
       "      <td>...</td>\n",
       "      <td>...</td>\n",
       "      <td>...</td>\n",
       "      <td>...</td>\n",
       "    </tr>\n",
       "    <tr>\n",
       "      <th>922</th>\n",
       "      <td>2021-01-02</td>\n",
       "      <td>Vikas Sati</td>\n",
       "      <td>45</td>\n",
       "      <td>97.9</td>\n",
       "      <td>None of the Above</td>\n",
       "      <td>None of the Above</td>\n",
       "      <td>No</td>\n",
       "      <td>No</td>\n",
       "      <td>No</td>\n",
       "      <td>Green</td>\n",
       "      <td>No</td>\n",
       "      <td>No</td>\n",
       "      <td>25.0</td>\n",
       "      <td>Male</td>\n",
       "    </tr>\n",
       "    <tr>\n",
       "      <th>923</th>\n",
       "      <td>2021-01-02</td>\n",
       "      <td>Vinay Kumar</td>\n",
       "      <td>46</td>\n",
       "      <td>97</td>\n",
       "      <td>None of the Above</td>\n",
       "      <td>None of the Above</td>\n",
       "      <td>No</td>\n",
       "      <td>No</td>\n",
       "      <td>No</td>\n",
       "      <td>Green</td>\n",
       "      <td>Yes</td>\n",
       "      <td>Yes</td>\n",
       "      <td>41.0</td>\n",
       "      <td>Male</td>\n",
       "    </tr>\n",
       "    <tr>\n",
       "      <th>924</th>\n",
       "      <td>2021-01-02</td>\n",
       "      <td>Neetu Rathore</td>\n",
       "      <td>17</td>\n",
       "      <td>95</td>\n",
       "      <td>None of the Above</td>\n",
       "      <td>None of the Above</td>\n",
       "      <td>No</td>\n",
       "      <td>No</td>\n",
       "      <td>No</td>\n",
       "      <td>Green</td>\n",
       "      <td>Yes</td>\n",
       "      <td>Yes</td>\n",
       "      <td>26.0</td>\n",
       "      <td>Female</td>\n",
       "    </tr>\n",
       "    <tr>\n",
       "      <th>925</th>\n",
       "      <td>2021-01-02</td>\n",
       "      <td>Abhay kumar singh</td>\n",
       "      <td>1</td>\n",
       "      <td>97.3</td>\n",
       "      <td>None of the Above</td>\n",
       "      <td>None of the Above</td>\n",
       "      <td>No</td>\n",
       "      <td>No</td>\n",
       "      <td>No</td>\n",
       "      <td>Green</td>\n",
       "      <td>Yes</td>\n",
       "      <td>Yes</td>\n",
       "      <td>38.0</td>\n",
       "      <td>Male</td>\n",
       "    </tr>\n",
       "    <tr>\n",
       "      <th>926</th>\n",
       "      <td>2021-01-03</td>\n",
       "      <td>Jugraj Singh Bhadauriya</td>\n",
       "      <td>15</td>\n",
       "      <td>97</td>\n",
       "      <td>None of the Above</td>\n",
       "      <td>None of the Above</td>\n",
       "      <td>No</td>\n",
       "      <td>No</td>\n",
       "      <td>No</td>\n",
       "      <td>Green</td>\n",
       "      <td>Yes</td>\n",
       "      <td>Yes</td>\n",
       "      <td>39.0</td>\n",
       "      <td>Male</td>\n",
       "    </tr>\n",
       "  </tbody>\n",
       "</table>\n",
       "<p>927 rows × 14 columns</p>\n",
       "</div>"
      ],
      "text/plain": [
       "       datetime                      name  roll temperature  \\\n",
       "0    2020-12-16  Jagdish Chandra Palariya    14        96.7   \n",
       "1    2020-12-16              Satish Saini    31        97 F   \n",
       "2    2020-12-16              PRAMOD KUMAR    21      198.86   \n",
       "3    2020-12-16           Saurav Bhandari    32        97.5   \n",
       "4    2020-12-16           Ishan Tamrakar     13          98   \n",
       "..          ...                       ...   ...         ...   \n",
       "922  2021-01-02                Vikas Sati    45        97.9   \n",
       "923  2021-01-02               Vinay Kumar    46          97   \n",
       "924  2021-01-02             Neetu Rathore    17          95   \n",
       "925  2021-01-02         Abhay kumar singh     1        97.3   \n",
       "926  2021-01-03  Jugraj Singh Bhadauriya     15          97   \n",
       "\n",
       "             symptopms        comorbidity containment_zone  \\\n",
       "0    None of the Above  None of the Above               No   \n",
       "1    None of the Above  None of the Above               No   \n",
       "2    None of the Above  None of the Above               No   \n",
       "3    None of the Above  None of the Above               No   \n",
       "4    None of the Above  None of the Above               No   \n",
       "..                 ...                ...              ...   \n",
       "922  None of the Above  None of the Above               No   \n",
       "923  None of the Above  None of the Above               No   \n",
       "924  None of the Above  None of the Above               No   \n",
       "925  None of the Above  None of the Above               No   \n",
       "926  None of the Above  None of the Above               No   \n",
       "\n",
       "    international_travel recent_contact Aarogyasetu_status obey_rules  \\\n",
       "0                     No             No              Green        Yes   \n",
       "1                     No             No       You are SAFE        Yes   \n",
       "2                     No             No       YOU ARE SAFE        Yes   \n",
       "3                     No             No               SAFE        Yes   \n",
       "4                     No             No         I am Safe.        Yes   \n",
       "..                   ...            ...                ...        ...   \n",
       "922                   No             No              Green         No   \n",
       "923                   No             No              Green        Yes   \n",
       "924                   No             No              Green        Yes   \n",
       "925                   No             No              Green        Yes   \n",
       "926                   No             No              Green        Yes   \n",
       "\n",
       "    voluntary   age  gender  \n",
       "0         Yes   NaN     NaN  \n",
       "1         Yes   NaN     NaN  \n",
       "2         Yes   NaN     NaN  \n",
       "3         Yes   NaN     NaN  \n",
       "4         Yes   NaN     NaN  \n",
       "..        ...   ...     ...  \n",
       "922        No  25.0    Male  \n",
       "923       Yes  41.0    Male  \n",
       "924       Yes  26.0  Female  \n",
       "925       Yes  38.0    Male  \n",
       "926       Yes  39.0    Male  \n",
       "\n",
       "[927 rows x 14 columns]"
      ]
     },
     "execution_count": 76,
     "metadata": {},
     "output_type": "execute_result"
    }
   ],
   "source": [
    "df"
   ]
  },
  {
   "cell_type": "code",
   "execution_count": 100,
   "metadata": {},
   "outputs": [
    {
     "data": {
      "application/vnd.jupyter.widget-view+json": {
       "model_id": "221857f5c70b49649403219e1b53d7cc",
       "version_major": 2,
       "version_minor": 0
      },
      "text/plain": [
       "interactive(children=(DatePicker(value=None, description='Pick a Date'), Output()), _dom_classes=('widget-inte…"
      ]
     },
     "metadata": {},
     "output_type": "display_data"
    },
    {
     "name": "stdout",
     "output_type": "stream",
     "text": [
      "[]\n"
     ]
    }
   ],
   "source": [
    "from ipywidgets import interact\n",
    "import ipywidgets as widgets\n",
    "\n",
    "#day = [1,2,3,4,5,6,7,8,9,10,11,12,13,14,15,16,17,18,19,20,21,22,23,24,25,26,27,28,29,30,31]\n",
    "#month = [1,2,3,4,5,6,7,8,9,10,11,12]\n",
    "#year = [2021,2021]\n",
    "def DAY(day):\n",
    "    return print(day)\n",
    "\n",
    "interact(DAY, day=widgets.DatePicker(description='Pick a Date', disabled=False));"
   ]
  },
  {
   "cell_type": "code",
   "execution_count": 90,
   "metadata": {},
   "outputs": [
    {
     "data": {
      "text/plain": [
       "[]"
      ]
     },
     "execution_count": 90,
     "metadata": {},
     "output_type": "execute_result"
    }
   ],
   "source": [
    "day"
   ]
  },
  {
   "cell_type": "code",
   "execution_count": 73,
   "metadata": {},
   "outputs": [
    {
     "data": {
      "application/vnd.jupyter.widget-view+json": {
       "model_id": "09d740bb0e2d4f95940affe248bf06b5",
       "version_major": 2,
       "version_minor": 0
      },
      "text/plain": [
       "interactive(children=(DatePicker(value=None, description='x'), Output()), _dom_classes=('widget-interact',))"
      ]
     },
     "metadata": {},
     "output_type": "display_data"
    },
    {
     "data": {
      "text/plain": [
       "<function __main__.foo(x)>"
      ]
     },
     "execution_count": 73,
     "metadata": {},
     "output_type": "execute_result"
    }
   ],
   "source": [
    "def foo(x):\n",
    "    return x\n",
    "interact(foo, x=widgets.DatePicker())"
   ]
  },
  {
   "cell_type": "code",
   "execution_count": null,
   "metadata": {},
   "outputs": [],
   "source": []
  },
  {
   "cell_type": "markdown",
   "metadata": {},
   "source": [
    "## <font color='red'> Total Number of Student: 50 </font>\n",
    "## Number of submission and non-submission today till Now"
   ]
  },
  {
   "cell_type": "code",
   "execution_count": 47,
   "metadata": {},
   "outputs": [],
   "source": [
    "today_submission=df.loc[df['datetime']==today_str,'roll'].nunique()\n",
    "#print(\"Total Number of students submitted online form today = \", today_submission) \n",
    "yet_to_submit = 50 - today_submission\n",
    "#print(\"Total Number of students yet to submit online form today = \", yet_to_submit) "
   ]
  },
  {
   "cell_type": "code",
   "execution_count": 65,
   "metadata": {},
   "outputs": [
    {
     "data": {
      "text/html": [
       "<div style = 'background-color: #504e4e; padding: 30px '><span style='color: #fff; font-size:30px;'> Total Number of students submitted online form today: 1</span></div>"
      ],
      "text/plain": [
       "<IPython.core.display.HTML object>"
      ]
     },
     "metadata": {},
     "output_type": "display_data"
    },
    {
     "data": {
      "text/html": [
       "<div style = 'background-color: #504e4e; padding: 30px '><span style='color: red; font-size:30px;'> Total Number of students yet to submit online form today: 49</span></div>"
      ],
      "text/plain": [
       "<IPython.core.display.HTML object>"
      ]
     },
     "metadata": {},
     "output_type": "display_data"
    }
   ],
   "source": [
    "# displaying the total stats\n",
    "\n",
    "display(HTML(\"<div style = 'background-color: #504e4e; padding: 30px '>\" +\n",
    "             \"<span style='color: #fff; font-size:30px;'> Total Number of students submitted online form today: \"  + str(today_submission) +\"</span>\" +\n",
    "             \"</div>\")\n",
    "       )\n",
    "display(HTML(\"<div style = 'background-color: #504e4e; padding: 30px '>\" +\n",
    "             \"<span style='color: red; font-size:30px;'> Total Number of students yet to submit online form today: \" + str(yet_to_submit) + \"</span>\"+\n",
    "             \"</div>\")\n",
    "       )"
   ]
  },
  {
   "cell_type": "markdown",
   "metadata": {},
   "source": [
    "## Find the roll number of the students yet to submit online from today"
   ]
  },
  {
   "cell_type": "code",
   "execution_count": 23,
   "metadata": {},
   "outputs": [
    {
     "name": "stdout",
     "output_type": "stream",
     "text": [
      "Roll number of the students yet to submit online form today =  [1, 2, 3, 4, 5, 6, 7, 8, 9, 10, 11, 12, 13, 14, 16, 17, 18, 19, 20, 21, 22, 23, 24, 25, 26, 27, 28, 29, 30, 31, 32, 33, 34, 35, 36, 37, 38, 39, 40, 41, 42, 43, 44, 45, 46, 47, 48, 49, 50]\n"
     ]
    }
   ],
   "source": [
    "df1 = df.loc[df['datetime']==today_str]\n",
    "submission=df1.loc[df1['datetime'] == today_str, 'roll'].values.flatten().tolist()\n",
    "submission_list = [int(i) for i in submission]\n",
    "# No Response on specific date\n",
    "def find_missing(lst): \n",
    "    return [x for x in range(1,51)  \n",
    "                               if x not in lst] \n",
    "missing = find_missing(submission_list)\n",
    "print(\"Roll number of the students yet to submit online form today = \", missing) "
   ]
  },
  {
   "cell_type": "markdown",
   "metadata": {},
   "source": [
    "## Number of Students suffering from different COVID Related Symptoms\n",
    "| Temperature | Symptoms | Co-morbidity |\n",
    "| --- | --- | --- |\n",
    "| Fever when temperature >=100 | Cough | Diabetes |\n",
    "| Warning when temperature >= 98.9 and < 100 | Fever | Hypertension\n",
    "| Normal when temperature < 98.8 | Difficulty in Breathing | Lung Disease\n",
    "| | Loss of sense of smell and taste | Heart Disease\n",
    "| | None of the Above | Kidney Disease\n",
    "| | | None of the Above"
   ]
  },
  {
   "cell_type": "code",
   "execution_count": 24,
   "metadata": {},
   "outputs": [
    {
     "name": "stderr",
     "output_type": "stream",
     "text": [
      "/anaconda3/lib/python3.6/site-packages/ipykernel_launcher.py:1: SettingWithCopyWarning: \n",
      "A value is trying to be set on a copy of a slice from a DataFrame.\n",
      "Try using .loc[row_indexer,col_indexer] = value instead\n",
      "\n",
      "See the caveats in the documentation: https://pandas.pydata.org/pandas-docs/stable/user_guide/indexing.html#returning-a-view-versus-a-copy\n",
      "  \"\"\"Entry point for launching an IPython kernel.\n",
      "/anaconda3/lib/python3.6/site-packages/ipykernel_launcher.py:3: SettingWithCopyWarning: \n",
      "A value is trying to be set on a copy of a slice from a DataFrame.\n",
      "Try using .loc[row_indexer,col_indexer] = value instead\n",
      "\n",
      "See the caveats in the documentation: https://pandas.pydata.org/pandas-docs/stable/user_guide/indexing.html#returning-a-view-versus-a-copy\n",
      "  This is separate from the ipykernel package so we can avoid doing imports until\n"
     ]
    }
   ],
   "source": [
    "df1['temperature'] = df1['temperature'].astype(str).str.extract('([-+]?\\d*\\.\\d+|\\d+)').astype(float)\n",
    "filter_method = lambda x: 'Fever' if x >= 100 else 'Warning' if (x < 100 and x >= 98.9) else 'Normal'\n",
    "df1['temperature'] = df1['temperature'].apply(filter_method)"
   ]
  },
  {
   "cell_type": "code",
   "execution_count": 25,
   "metadata": {},
   "outputs": [
    {
     "data": {
      "text/plain": [
       "Normal    1\n",
       "Name: temperature, dtype: int64"
      ]
     },
     "execution_count": 25,
     "metadata": {},
     "output_type": "execute_result"
    }
   ],
   "source": [
    "df1['temperature'].value_counts()"
   ]
  },
  {
   "cell_type": "code",
   "execution_count": 26,
   "metadata": {},
   "outputs": [
    {
     "data": {
      "text/plain": [
       "<matplotlib.axes._subplots.AxesSubplot at 0x1a28801860>"
      ]
     },
     "execution_count": 26,
     "metadata": {},
     "output_type": "execute_result"
    },
    {
     "data": {
      "image/png": "[encoded data removed]",
      "text/plain": [
       "<Figure size 432x288 with 1 Axes>"
      ]
     },
     "metadata": {
      "needs_background": "light"
     },
     "output_type": "display_data"
    }
   ],
   "source": [
    "sns.countplot(x='temperature',data=df1)"
   ]
  },
  {
   "cell_type": "code",
   "execution_count": null,
   "metadata": {},
   "outputs": [],
   "source": []
  }
 ],
 "metadata": {
  "hide_input": false,
  "kernelspec": {
   "display_name": "Python 3",
   "language": "python",
   "name": "python3"
  },
  "language_info": {
   "codemirror_mode": {
    "name": "ipython",
    "version": 3
   },
   "file_extension": ".py",
   "mimetype": "text/x-python",
   "name": "python",
   "nbconvert_exporter": "python",
   "pygments_lexer": "ipython3",
   "version": "3.6.9"
  }
 },
 "nbformat": 4,
 "nbformat_minor": 2
}
